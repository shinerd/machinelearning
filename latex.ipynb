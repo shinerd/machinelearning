{
 "cells": [
  {
   "cell_type": "markdown",
   "metadata": {},
   "source": [
    "$(1) f(x) = ax^2 + bx + c$\n",
    "$(2) f(x) = \\exp(x)$\n",
    "$(3) f(x) = \\frac{a}{b}, \\quad a\\in\\mathbb{R}, b\\in\\mathbb{R}$\n",
    "$(4)f(x)=\\sum_{i=1}^n x_i, \\quad x = (x_1, x_2, \\cdots, x_n)$\n",
    "$(5)f(x) = \\int_{\\Omega} \\sigma(x,t)\\, dt$\n",
    "$(6)\\frac{\\partial\\mathbb{E}}{\\partial\\mathbb\\omega}$"
   ]
  },
  {
   "cell_type": "markdown",
   "metadata": {},
   "source": [
    "$(1) f(x) = ax^2 + bx + c$"
   ]
  },
  {
   "cell_type": "markdown",
   "metadata": {},
   "source": [
    "$(2) f(x) = \\exp(x)$"
   ]
  },
  {
   "cell_type": "markdown",
   "metadata": {},
   "source": [
    "$(3) f(x) = \\frac{a}{b}, \\quad a\\in\\mathbb{R}, b\\in\\mathbb{R}$"
   ]
  },
  {
   "cell_type": "markdown",
   "metadata": {},
   "source": [
    "$(4)f(x)=\\sum_{i=1}^n x_i, \\quad x = (x_1, x_2, \\cdots, x_n)$"
   ]
  },
  {
   "cell_type": "markdown",
   "metadata": {},
   "source": [
    "$(5)f(x) = \\int_{\\Omega} \\sigma(x,t)\\, dt$"
   ]
  },
  {
   "cell_type": "markdown",
   "metadata": {},
   "source": [
    "$(6)\\frac{\\partial\\mathbb{E}}{\\partial\\mathbb\\omega}$"
   ]
  }
 ],
 "metadata": {
  "kernelspec": {
   "display_name": "Python 3",
   "language": "python",
   "name": "python3"
  },
  "language_info": {
   "codemirror_mode": {
    "name": "ipython",
    "version": 3
   },
   "file_extension": ".py",
   "mimetype": "text/x-python",
   "name": "python",
   "nbconvert_exporter": "python",
   "pygments_lexer": "ipython3",
   "version": "3.7.6"
  }
 },
 "nbformat": 4,
 "nbformat_minor": 4
}
